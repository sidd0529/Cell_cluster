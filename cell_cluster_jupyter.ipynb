{
 "cells": [
  {
   "cell_type": "code",
   "execution_count": 1,
   "metadata": {},
   "outputs": [],
   "source": [
    "from __future__ import division #For decimal division.\n",
    "import numpy as np #For use in numerical computation.\n",
    "import pandas as pd #Pandas.\n",
    "from functools import reduce #For finding intersection of rows in pandas dataframes.\n",
    "import glob, os #For finding files inside folder.\n",
    "import time #Check time of computation.\n",
    "from sklearn.model_selection import train_test_split #Split arrays or matrices \n",
    "\t\t\t\t\t\t\t\t\t\t\t\t\t#into random train and test subsets\n",
    "from sklearn.preprocessing import StandardScaler #Centering and scaling each feature independently \n",
    "                                                 #by removing the mean and scaling to unit variance                          \n",
    "from sklearn.decomposition import PCA #Principal component analysis (PCA). \n",
    "from sklearn.linear_model import LogisticRegression #Logistic Regression.                     \n",
    "import matplotlib.pyplot as plt #Matplotlib\n",
    "from matplotlib.colors import ListedColormap\n",
    "from plots import plot_labels #Self defined function for scatter plot of labels \n",
    "from plots import plot_explained_variance #Self defined function for plottting\n",
    "                                          #cumulative and principal explained variances."
   ]
  },
  {
   "cell_type": "markdown",
   "metadata": {},
   "source": [
    "# Create output folders"
   ]
  },
  {
   "cell_type": "code",
   "execution_count": 2,
   "metadata": {},
   "outputs": [],
   "source": [
    "if( not os.path.isdir(\"images\") ): \n",
    "    print \"'images' folder does not exist. Creating 'images' folder.\" \n",
    "    try:\n",
    "        os.makedirs('images/')\n",
    "    except OSError as e:\n",
    "        if e.errno != errno.EEXIST:\n",
    "            raise"
   ]
  },
  {
   "cell_type": "markdown",
   "metadata": {},
   "source": [
    "# Import files"
   ]
  },
  {
   "cell_type": "code",
   "execution_count": 3,
   "metadata": {},
   "outputs": [],
   "source": [
    "\"\"\"\n",
    "Notes\n",
    "----------\n",
    "> Raw data has 17382 cells and ~80k features (union of genes).\n",
    "\n",
    "Important parameters\n",
    "----------\t\n",
    "files : list data type (stores list of *.txt files inside 'data_cell_gene/')\n",
    "dfs : list data type (contains list of pandas dataframes which are imported from *.txt files in list 'files'.)\n",
    "\"\"\"\n",
    "start_time = time.time()\n",
    "\n",
    "files = glob.glob(\"data_cell_gene/*.txt\")\n",
    "dfs = [ pd.read_csv(files[i], sep='\\t', header=[0,1], index_col=0) for i in range(len(files)) ]"
   ]
  },
  {
   "cell_type": "markdown",
   "metadata": {},
   "source": [
    "# Dimensionality Reduction"
   ]
  },
  {
   "cell_type": "code",
   "execution_count": 4,
   "metadata": {},
   "outputs": [
    {
     "name": "stdout",
     "output_type": "stream",
     "text": [
      "--- Import and processing of all cell-gene data files completed in 392.79180789 seconds o_o ---\n"
     ]
    }
   ],
   "source": [
    "\"\"\"\n",
    "Notes\n",
    "----------\n",
    "> Dimensionality reduction from ~80k features (union of genes) to 6460 features (intersection of genes).\n",
    "\n",
    "Important parameters\n",
    "----------\t\n",
    "df_final : list data type (pandas dataframe which contains intersection of rows of dataframes contained in list 'dfs'.)    \n",
    "\"\"\"\n",
    "df_final = reduce(lambda left,right: pd.merge(left,right,on=None,left_index=True,right_index=True), dfs)\t\n",
    "\n",
    "file_read_time = time.time()\n",
    "print(\"--- Import and processing of all cell-gene data files completed in %s seconds o_o ---\" % (file_read_time - start_time))"
   ]
  },
  {
   "cell_type": "markdown",
   "metadata": {},
   "source": [
    "# Data acquisition"
   ]
  },
  {
   "cell_type": "code",
   "execution_count": 5,
   "metadata": {},
   "outputs": [],
   "source": [
    "\"\"\"\n",
    "Notes\n",
    "----------\n",
    "Obtain data from df_final.\n",
    "\n",
    "Important parameters\n",
    "----------\t\n",
    "data_num : numpy.ndarray data type, of shape ( m , n ). (stores numerical data from df_final.)\n",
    "cells_tot_sup : numpy.ndarray data type of shape ( m , ).  (list of cells (columns) from df_final.)\n",
    "cells_unq_sup : numpy.ndarray data type of shape ( m1 , ).  (list of unique cells in df_final.)  \n",
    "genes_sup : numpy.ndarray data type of shape ( m2 , ).\t(list of genes/features (rows) from df_final.)\t   \n",
    "\"\"\"\n",
    "data_num = df_final.values\n",
    "cells_tot_sup = np.asarray( df_final.columns.get_level_values(1).tolist() ) \n",
    "cells_unq_sup = np.unique(cells_tot_sup)\n",
    "genes_sup = np.asarray( (df_final.index).tolist() )"
   ]
  },
  {
   "cell_type": "markdown",
   "metadata": {},
   "source": [
    "# Biologically related genes (protein-DNA/ protein-protein)"
   ]
  },
  {
   "cell_type": "code",
   "execution_count": 6,
   "metadata": {},
   "outputs": [
    {
     "name": "stdout",
     "output_type": "stream",
     "text": [
      "--- Import and processing of protein-protein and protein-DNA data files completed in 2.04592013359 seconds o_o ---\n"
     ]
    }
   ],
   "source": [
    "\"\"\"\n",
    "Notes\n",
    "----------\n",
    "> Use protein-protein and protein-DNA data to find similarity between genes. And use this for DIMENSIONALITY REDUCTION.\n",
    "> Dimensionality reduction from 6460 features (genes) to 348 features (genes) after \n",
    "  incorporation of protein-protein and protein-DNA gene similarity data.\n",
    "\n",
    "Important parameters\n",
    "----------\t\n",
    "df_protein_DNA : Pandas dataframe with protein-DNA/ protein-protein.\n",
    "df_protein_DNA_genes : Pandas dataframe 'df_protein_DNA' with genes from 'genes_sup' (and nothing else). \n",
    "df_similar_genes : Pandas dataframe with similar genes in different rows.\n",
    "gene_similar_LoL : List of lists with similar genes in different lists.\n",
    "\"\"\"\n",
    "time_protein_DNA_start = time.time()\n",
    "\n",
    "fpath_protein_DNA = 'data_protein_DNA/ppi_tf_merge_cluster.txt'\n",
    "df_protein_DNA = pd.read_csv(fpath_protein_DNA, error_bad_lines=False, warn_bad_lines=False, sep=r'\\t+', header=None, dtype='|U', engine='python')\n",
    "df_protein_DNA_genes = ( df_protein_DNA.stack().reset_index(0,name='genes')\n",
    "\t                                   .merge(pd.DataFrame({'genes':genes_sup}))\n",
    "\t                                   .set_index('level_0') )\n",
    "df_protein_DNA_genes['length'] = df_protein_DNA_genes.groupby('level_0').transform('nunique')\n",
    "df_similar_genes = ( pd\n",
    "\t.DataFrame({'row_num':df_protein_DNA_genes.groupby('genes')['length'].idxmax().values})\n",
    "    .groupby('row_num')\n",
    "    .apply(lambda x: list(x.index)) )\n",
    "\n",
    "gene_similar_LoL = df_similar_genes.tolist()\n",
    "\n",
    "data_num_similar_gene = np.stack([np.mean(data_num[el], 0) for el in gene_similar_LoL if el]) \n",
    "\n",
    "time_protein_DNA_end = time.time()\n",
    "print(\"--- Import and processing of protein-protein and protein-DNA data files completed in %s seconds o_o ---\" % (time_protein_DNA_end - time_protein_DNA_start))"
   ]
  },
  {
   "cell_type": "markdown",
   "metadata": {},
   "source": [
    "# Data splitting"
   ]
  },
  {
   "cell_type": "code",
   "execution_count": 7,
   "metadata": {},
   "outputs": [
    {
     "name": "stdout",
     "output_type": "stream",
     "text": [
      "(6460, 17382) (13036, 348) (4346, 348) (13036,) (4346,)\n"
     ]
    }
   ],
   "source": [
    "\"\"\"\n",
    "Notes\n",
    "----------\n",
    "Split input array into random train and test subsets\n",
    "\n",
    "Important parameters\n",
    "----------\t\n",
    "X_train : numpy.ndarray data type, of shape ( num_train , genes_sup.shape[0] ). \n",
    "              (Training data split from data_num_similar_gene.T .)\n",
    "X_test : numpy.ndarray data type, of shape ( num_test , genes_sup.shape[0] ). \n",
    "              (Test data split from data_num_similar_gene.T.)\n",
    "y_train : numpy.ndarray, of shape ( num_train , ). (Labels coresponding to X_train.)\n",
    "y_test : numpy.ndarray, of shape ( num_test , ). (Labels coresponding to X_test.)\n",
    "Number of features : genes_sup.shape[0] (number of features = number of genes)\n",
    "\"\"\"\n",
    "X_train, X_test, y_train, y_test = \\\n",
    "\t\t\t\ttrain_test_split(data_num_similar_gene.T, cells_tot_sup, test_size=0.25, random_state=125)\n",
    "\n",
    "print data_num.shape, X_train.shape, X_test.shape, y_train.shape, y_test.shape"
   ]
  },
  {
   "cell_type": "markdown",
   "metadata": {},
   "source": [
    "# Data processing"
   ]
  },
  {
   "cell_type": "code",
   "execution_count": 8,
   "metadata": {},
   "outputs": [],
   "source": [
    "\"\"\"\n",
    "Feature scaling of X_train, X_test.\n",
    "\"\"\"\t\t\n",
    "sc = StandardScaler()\n",
    "X_train_std = sc.fit_transform(X_train)\n",
    "X_test_std = sc.fit_transform(X_test)"
   ]
  },
  {
   "cell_type": "markdown",
   "metadata": {},
   "source": [
    "# Covariance"
   ]
  },
  {
   "cell_type": "code",
   "execution_count": 9,
   "metadata": {},
   "outputs": [
    {
     "name": "stdout",
     "output_type": "stream",
     "text": [
      "--- Covariance matrix computed in 0.0777719020844 seconds o_o ---\n",
      "Shape of covariance matrix is:  (348, 348)\n",
      "--- Eigen vectors and values computed in 0.0714139938354 seconds o_o ---\n"
     ]
    }
   ],
   "source": [
    "\"\"\"\n",
    "Construct covariance matrix from X_train_std.\n",
    "\"\"\"\t\t  \n",
    "time_start_cov = time.time()\n",
    "cov_mat = np.cov(X_train_std.T)\n",
    "time_end_cov = time.time()\n",
    "print(\"--- Covariance matrix computed in %s seconds o_o ---\" % (time_end_cov - time_start_cov))\t\n",
    "print 'Shape of covariance matrix is: ', cov_mat.shape  \n",
    "\n",
    "\n",
    "\"\"\"\n",
    "Find eigen values and eigen vectors of covariance matrix.\n",
    "\"\"\"\t\t  \n",
    "eigen_vals, eigen_vecs = np.linalg.eig(cov_mat)\n",
    "time_eigen = time.time()\n",
    "print(\"--- Eigen vectors and values computed in %s seconds o_o ---\" % (time_eigen - time_end_cov))\t\n",
    "\n",
    "tot_eigval = sum(eigen_vals)\n",
    "\n",
    "var_exp = [(i/tot_eigval) for i in sorted(eigen_vals, reverse=True)]\n",
    "scale_factor = 10\n",
    "var_exp_scaled = [ i*scale_factor for i in var_exp]\n",
    "\n",
    "cum_var_exp = np.cumsum(var_exp)\n"
   ]
  },
  {
   "cell_type": "code",
   "execution_count": 10,
   "metadata": {},
   "outputs": [
    {
     "data": {
      "image/png": "[encoded data removed]",
      "text/plain": [
       "<Figure size 432x288 with 1 Axes>"
      ]
     },
     "metadata": {
      "needs_background": "light"
     },
     "output_type": "display_data"
    }
   ],
   "source": [
    "\"\"\"\n",
    "Notes (Plotting)\n",
    "----------\n",
    "This function plots cumulative and principal explained variances.\n",
    "\"\"\"\n",
    "fignum = 1\n",
    "plot_explained_variance( var_exp=var_exp, var_exp_scaled=var_exp_scaled, scale=scale_factor,\n",
    "\t                     cum_var_exp=cum_var_exp, numfig=fignum, saveplot=False )\n",
    "fignum+=1"
   ]
  },
  {
   "cell_type": "markdown",
   "metadata": {},
   "source": [
    "# Machine Learning"
   ]
  },
  {
   "cell_type": "code",
   "execution_count": 11,
   "metadata": {},
   "outputs": [
    {
     "name": "stdout",
     "output_type": "stream",
     "text": [
      "Mean accuracy on test data and labels is:  0.9408651633686148\n"
     ]
    }
   ],
   "source": [
    "\"\"\"\n",
    "Notes (Principal Component Analysis)\n",
    "----------\n",
    "> You fit PCA on the training set only.\n",
    "> Mapping (transform) is applied to both the training and the test sets.\n",
    "> Helpful link (https://towardsdatascience.com/pca-using-python-scikit-learn-e653f8989e60)\n",
    "\"\"\"\t\n",
    "energy = 0.95\t  \t\n",
    "pca = PCA(energy)\n",
    "X_train_pca = pca.fit_transform(X_train_std)\n",
    "X_test_pca = pca.transform(X_test_std)\n",
    "\n",
    "\n",
    "\"\"\"\n",
    "Fitting Logistic Regression after PCA.\n",
    "Helpful link (https://towardsdatascience.com/pca-using-python-scikit-learn-e653f8989e60)\n",
    "\"\"\"\t\t  \t\n",
    "lr = LogisticRegression()\n",
    "lr.fit(X_train_pca, y_train)\n",
    "y_test_pred = lr.predict(X_test_pca)\n",
    "\n",
    "print \"Mean accuracy on test data and labels is: \", lr.score(X_test_pca, y_test)"
   ]
  },
  {
   "cell_type": "code",
   "execution_count": 12,
   "metadata": {},
   "outputs": [
    {
     "name": "stderr",
     "output_type": "stream",
     "text": [
      "/anaconda2/lib/python2.7/site-packages/matplotlib/cbook/deprecation.py:107: MatplotlibDeprecationWarning: Adding an axes using the same arguments as a previous axes currently reuses the earlier instance.  In a future version, a new instance will always be created and returned.  Meanwhile, this warning can be suppressed, and the future behavior ensured, by passing a unique label to each axes instance.\n",
      "  warnings.warn(message, mplDeprecation, stacklevel=1)\n"
     ]
    }
   ],
   "source": [
    "\"\"\"\n",
    "Notes (Plotting)\n",
    "----------\n",
    "> This function plots  class labels information for the purpose of illustration.\n",
    "> Keep in mind that PCA is an unsupervised technique that doesn't use class label information.\n",
    "\"\"\"\n",
    "plot_labels(XX=X_test_pca, yy=y_test, yy_pred=y_test_pred, numfig=fignum, saveplot=False)"
   ]
  },
  {
   "cell_type": "code",
   "execution_count": null,
   "metadata": {},
   "outputs": [],
   "source": []
  }
 ],
 "metadata": {
  "kernelspec": {
   "display_name": "Python 2",
   "language": "python",
   "name": "python2"
  },
  "language_info": {
   "codemirror_mode": {
    "name": "ipython",
    "version": 2
   },
   "file_extension": ".py",
   "mimetype": "text/x-python",
   "name": "python",
   "nbconvert_exporter": "python",
   "pygments_lexer": "ipython2",
   "version": "2.7.15"
  }
 },
 "nbformat": 4,
 "nbformat_minor": 2
}
